{
 "cells": [
  {
   "cell_type": "code",
   "execution_count": 6,
   "id": "9dd25f29",
   "metadata": {},
   "outputs": [
    {
     "name": "stdout",
     "output_type": "stream",
     "text": [
      "Using device: cpu\n"
     ]
    }
   ],
   "source": [
    "# Imports\n",
    "import torch\n",
    "import torch.nn as nn\n",
    "import numpy as np\n",
    "import pandas as pd\n",
    "import matplotlib.pyplot as plt\n",
    "from sklearn.preprocessing import StandardScaler\n",
    "from sklearn.decomposition import PCA\n",
    "from sklearn.model_selection import train_test_split\n",
    "from sklearn.metrics.pairwise import cosine_similarity\n",
    "from scipy.linalg import sqrtm\n",
    "from tqdm import tqdm\n",
    "\n",
    "# Device setup \n",
    "DEVICE = torch.device(\"cuda\" if torch.cuda.is_available() else \"cpu\")\n",
    "print(f\"Using device: {DEVICE}\")\n"
   ]
  },
  {
   "cell_type": "code",
   "execution_count": null,
   "id": "8388add6",
   "metadata": {},
   "outputs": [],
   "source": []
  },
  {
   "cell_type": "code",
   "execution_count": 7,
   "id": "92d6b612",
   "metadata": {},
   "outputs": [
    {
     "name": "stdout",
     "output_type": "stream",
     "text": [
      "Data loaded: (284807, 29)\n",
      "Fraud cases: 492\n"
     ]
    }
   ],
   "source": [
    "# Load dataset\n",
    "data_path = \"./data/creditcard.csv\"  \n",
    "df = pd.read_csv(data_path)\n",
    "\n",
    "#  Remove NaNs & unnecessary columns\n",
    "df = df.dropna()\n",
    "if \"Time\" in df.columns:\n",
    "    df = df.drop(columns=[\"Time\"])\n",
    "\n",
    "# Scale Amount column\n",
    "scaler = StandardScaler()\n",
    "df[\"Amount\"] = scaler.fit_transform(df[[\"Amount\"]])\n",
    "\n",
    "# Split features & labels\n",
    "X = df.drop(\"Class\", axis=1).values\n",
    "y = df[\"Class\"].values\n",
    "\n",
    "print(\"Data loaded:\", X.shape)\n",
    "print(\"Fraud cases:\", sum(y))\n"
   ]
  },
  {
   "cell_type": "code",
   "execution_count": 8,
   "id": "c9d325ef",
   "metadata": {},
   "outputs": [
    {
     "data": {
      "text/html": [
       "<div>\n",
       "<style scoped>\n",
       "    .dataframe tbody tr th:only-of-type {\n",
       "        vertical-align: middle;\n",
       "    }\n",
       "\n",
       "    .dataframe tbody tr th {\n",
       "        vertical-align: top;\n",
       "    }\n",
       "\n",
       "    .dataframe thead th {\n",
       "        text-align: right;\n",
       "    }\n",
       "</style>\n",
       "<table border=\"1\" class=\"dataframe\">\n",
       "  <thead>\n",
       "    <tr style=\"text-align: right;\">\n",
       "      <th></th>\n",
       "      <th>V1</th>\n",
       "      <th>V2</th>\n",
       "      <th>V3</th>\n",
       "      <th>V4</th>\n",
       "      <th>V5</th>\n",
       "      <th>V6</th>\n",
       "      <th>V7</th>\n",
       "      <th>V8</th>\n",
       "      <th>V9</th>\n",
       "      <th>V10</th>\n",
       "      <th>...</th>\n",
       "      <th>V21</th>\n",
       "      <th>V22</th>\n",
       "      <th>V23</th>\n",
       "      <th>V24</th>\n",
       "      <th>V25</th>\n",
       "      <th>V26</th>\n",
       "      <th>V27</th>\n",
       "      <th>V28</th>\n",
       "      <th>Amount</th>\n",
       "      <th>Class</th>\n",
       "    </tr>\n",
       "  </thead>\n",
       "  <tbody>\n",
       "    <tr>\n",
       "      <th>0</th>\n",
       "      <td>-1.359807</td>\n",
       "      <td>-0.072781</td>\n",
       "      <td>2.536347</td>\n",
       "      <td>1.378155</td>\n",
       "      <td>-0.338321</td>\n",
       "      <td>0.462388</td>\n",
       "      <td>0.239599</td>\n",
       "      <td>0.098698</td>\n",
       "      <td>0.363787</td>\n",
       "      <td>0.090794</td>\n",
       "      <td>...</td>\n",
       "      <td>-0.018307</td>\n",
       "      <td>0.277838</td>\n",
       "      <td>-0.110474</td>\n",
       "      <td>0.066928</td>\n",
       "      <td>0.128539</td>\n",
       "      <td>-0.189115</td>\n",
       "      <td>0.133558</td>\n",
       "      <td>-0.021053</td>\n",
       "      <td>0.244964</td>\n",
       "      <td>0</td>\n",
       "    </tr>\n",
       "    <tr>\n",
       "      <th>1</th>\n",
       "      <td>1.191857</td>\n",
       "      <td>0.266151</td>\n",
       "      <td>0.166480</td>\n",
       "      <td>0.448154</td>\n",
       "      <td>0.060018</td>\n",
       "      <td>-0.082361</td>\n",
       "      <td>-0.078803</td>\n",
       "      <td>0.085102</td>\n",
       "      <td>-0.255425</td>\n",
       "      <td>-0.166974</td>\n",
       "      <td>...</td>\n",
       "      <td>-0.225775</td>\n",
       "      <td>-0.638672</td>\n",
       "      <td>0.101288</td>\n",
       "      <td>-0.339846</td>\n",
       "      <td>0.167170</td>\n",
       "      <td>0.125895</td>\n",
       "      <td>-0.008983</td>\n",
       "      <td>0.014724</td>\n",
       "      <td>-0.342475</td>\n",
       "      <td>0</td>\n",
       "    </tr>\n",
       "    <tr>\n",
       "      <th>2</th>\n",
       "      <td>-1.358354</td>\n",
       "      <td>-1.340163</td>\n",
       "      <td>1.773209</td>\n",
       "      <td>0.379780</td>\n",
       "      <td>-0.503198</td>\n",
       "      <td>1.800499</td>\n",
       "      <td>0.791461</td>\n",
       "      <td>0.247676</td>\n",
       "      <td>-1.514654</td>\n",
       "      <td>0.207643</td>\n",
       "      <td>...</td>\n",
       "      <td>0.247998</td>\n",
       "      <td>0.771679</td>\n",
       "      <td>0.909412</td>\n",
       "      <td>-0.689281</td>\n",
       "      <td>-0.327642</td>\n",
       "      <td>-0.139097</td>\n",
       "      <td>-0.055353</td>\n",
       "      <td>-0.059752</td>\n",
       "      <td>1.160686</td>\n",
       "      <td>0</td>\n",
       "    </tr>\n",
       "    <tr>\n",
       "      <th>3</th>\n",
       "      <td>-0.966272</td>\n",
       "      <td>-0.185226</td>\n",
       "      <td>1.792993</td>\n",
       "      <td>-0.863291</td>\n",
       "      <td>-0.010309</td>\n",
       "      <td>1.247203</td>\n",
       "      <td>0.237609</td>\n",
       "      <td>0.377436</td>\n",
       "      <td>-1.387024</td>\n",
       "      <td>-0.054952</td>\n",
       "      <td>...</td>\n",
       "      <td>-0.108300</td>\n",
       "      <td>0.005274</td>\n",
       "      <td>-0.190321</td>\n",
       "      <td>-1.175575</td>\n",
       "      <td>0.647376</td>\n",
       "      <td>-0.221929</td>\n",
       "      <td>0.062723</td>\n",
       "      <td>0.061458</td>\n",
       "      <td>0.140534</td>\n",
       "      <td>0</td>\n",
       "    </tr>\n",
       "    <tr>\n",
       "      <th>4</th>\n",
       "      <td>-1.158233</td>\n",
       "      <td>0.877737</td>\n",
       "      <td>1.548718</td>\n",
       "      <td>0.403034</td>\n",
       "      <td>-0.407193</td>\n",
       "      <td>0.095921</td>\n",
       "      <td>0.592941</td>\n",
       "      <td>-0.270533</td>\n",
       "      <td>0.817739</td>\n",
       "      <td>0.753074</td>\n",
       "      <td>...</td>\n",
       "      <td>-0.009431</td>\n",
       "      <td>0.798278</td>\n",
       "      <td>-0.137458</td>\n",
       "      <td>0.141267</td>\n",
       "      <td>-0.206010</td>\n",
       "      <td>0.502292</td>\n",
       "      <td>0.219422</td>\n",
       "      <td>0.215153</td>\n",
       "      <td>-0.073403</td>\n",
       "      <td>0</td>\n",
       "    </tr>\n",
       "  </tbody>\n",
       "</table>\n",
       "<p>5 rows × 30 columns</p>\n",
       "</div>"
      ],
      "text/plain": [
       "         V1        V2        V3        V4        V5        V6        V7  \\\n",
       "0 -1.359807 -0.072781  2.536347  1.378155 -0.338321  0.462388  0.239599   \n",
       "1  1.191857  0.266151  0.166480  0.448154  0.060018 -0.082361 -0.078803   \n",
       "2 -1.358354 -1.340163  1.773209  0.379780 -0.503198  1.800499  0.791461   \n",
       "3 -0.966272 -0.185226  1.792993 -0.863291 -0.010309  1.247203  0.237609   \n",
       "4 -1.158233  0.877737  1.548718  0.403034 -0.407193  0.095921  0.592941   \n",
       "\n",
       "         V8        V9       V10  ...       V21       V22       V23       V24  \\\n",
       "0  0.098698  0.363787  0.090794  ... -0.018307  0.277838 -0.110474  0.066928   \n",
       "1  0.085102 -0.255425 -0.166974  ... -0.225775 -0.638672  0.101288 -0.339846   \n",
       "2  0.247676 -1.514654  0.207643  ...  0.247998  0.771679  0.909412 -0.689281   \n",
       "3  0.377436 -1.387024 -0.054952  ... -0.108300  0.005274 -0.190321 -1.175575   \n",
       "4 -0.270533  0.817739  0.753074  ... -0.009431  0.798278 -0.137458  0.141267   \n",
       "\n",
       "        V25       V26       V27       V28    Amount  Class  \n",
       "0  0.128539 -0.189115  0.133558 -0.021053  0.244964      0  \n",
       "1  0.167170  0.125895 -0.008983  0.014724 -0.342475      0  \n",
       "2 -0.327642 -0.139097 -0.055353 -0.059752  1.160686      0  \n",
       "3  0.647376 -0.221929  0.062723  0.061458  0.140534      0  \n",
       "4 -0.206010  0.502292  0.219422  0.215153 -0.073403      0  \n",
       "\n",
       "[5 rows x 30 columns]"
      ]
     },
     "execution_count": 8,
     "metadata": {},
     "output_type": "execute_result"
    }
   ],
   "source": [
    "df.head()"
   ]
  },
  {
   "cell_type": "code",
   "execution_count": 9,
   "id": "5a22c0b7",
   "metadata": {},
   "outputs": [
    {
     "name": "stdout",
     "output_type": "stream",
     "text": [
      "<class 'pandas.core.frame.DataFrame'>\n",
      "RangeIndex: 284807 entries, 0 to 284806\n",
      "Data columns (total 30 columns):\n",
      " #   Column  Non-Null Count   Dtype  \n",
      "---  ------  --------------   -----  \n",
      " 0   V1      284807 non-null  float64\n",
      " 1   V2      284807 non-null  float64\n",
      " 2   V3      284807 non-null  float64\n",
      " 3   V4      284807 non-null  float64\n",
      " 4   V5      284807 non-null  float64\n",
      " 5   V6      284807 non-null  float64\n",
      " 6   V7      284807 non-null  float64\n",
      " 7   V8      284807 non-null  float64\n",
      " 8   V9      284807 non-null  float64\n",
      " 9   V10     284807 non-null  float64\n",
      " 10  V11     284807 non-null  float64\n",
      " 11  V12     284807 non-null  float64\n",
      " 12  V13     284807 non-null  float64\n",
      " 13  V14     284807 non-null  float64\n",
      " 14  V15     284807 non-null  float64\n",
      " 15  V16     284807 non-null  float64\n",
      " 16  V17     284807 non-null  float64\n",
      " 17  V18     284807 non-null  float64\n",
      " 18  V19     284807 non-null  float64\n",
      " 19  V20     284807 non-null  float64\n",
      " 20  V21     284807 non-null  float64\n",
      " 21  V22     284807 non-null  float64\n",
      " 22  V23     284807 non-null  float64\n",
      " 23  V24     284807 non-null  float64\n",
      " 24  V25     284807 non-null  float64\n",
      " 25  V26     284807 non-null  float64\n",
      " 26  V27     284807 non-null  float64\n",
      " 27  V28     284807 non-null  float64\n",
      " 28  Amount  284807 non-null  float64\n",
      " 29  Class   284807 non-null  int64  \n",
      "dtypes: float64(29), int64(1)\n",
      "memory usage: 65.2 MB\n"
     ]
    }
   ],
   "source": [
    "df.info()"
   ]
  },
  {
   "cell_type": "code",
   "execution_count": 10,
   "id": "c8babb57",
   "metadata": {},
   "outputs": [
    {
     "data": {
      "image/png": "[encoded data removed]",
      "text/plain": [
       "<Figure size 800x600 with 1 Axes>"
      ]
     },
     "metadata": {},
     "output_type": "display_data"
    }
   ],
   "source": [
    "def plot_pca(X, y, title=\"PCA Visualization\"):\n",
    "    pca = PCA(n_components=2)\n",
    "    reduced = pca.fit_transform(X)\n",
    "    plt.figure(figsize=(8, 6))\n",
    "    plt.scatter(reduced[y==0, 0], reduced[y==0, 1], label=\"Normal\", alpha=0.5)\n",
    "    plt.scatter(reduced[y==1, 0], reduced[y==1, 1], label=\"Fraud\", alpha=0.5)\n",
    "    plt.title(title)\n",
    "    plt.legend()\n",
    "    plt.show()\n",
    "\n",
    "plot_pca(X, y, \"PCA Before GAN Training\")\n"
   ]
  },
  {
   "cell_type": "code",
   "execution_count": 11,
   "id": "45ff413e",
   "metadata": {},
   "outputs": [],
   "source": [
    "class Generator(nn.Module):\n",
    "    def __init__(self, latent_dim, output_dim, hidden_dim=64):\n",
    "        super().__init__()\n",
    "        self.model = nn.Sequential(\n",
    "            nn.Linear(latent_dim, hidden_dim),\n",
    "            nn.BatchNorm1d(hidden_dim),\n",
    "            nn.LeakyReLU(0.2),\n",
    "            nn.Linear(hidden_dim, hidden_dim),\n",
    "            nn.BatchNorm1d(hidden_dim),\n",
    "            nn.LeakyReLU(0.2),\n",
    "            nn.Linear(hidden_dim, output_dim)\n",
    "        )\n",
    "\n",
    "    def forward(self, z):\n",
    "        return self.model(z)\n",
    "\n",
    "\n",
    "class Discriminator(nn.Module):\n",
    "    def __init__(self, input_dim, hidden_dim=64):\n",
    "        super().__init__()\n",
    "        self.model = nn.Sequential(\n",
    "            nn.Linear(input_dim, hidden_dim),\n",
    "            nn.LeakyReLU(0.2),\n",
    "            nn.Dropout(0.3),\n",
    "            nn.Linear(hidden_dim, hidden_dim),\n",
    "            nn.LeakyReLU(0.2),\n",
    "            nn.Dropout(0.3),\n",
    "            nn.Linear(hidden_dim, 1),\n",
    "            nn.Sigmoid()\n",
    "        )\n",
    "\n",
    "    def forward(self, x):\n",
    "        return self.model(x)\n"
   ]
  },
  {
   "cell_type": "code",
   "execution_count": 12,
   "id": "ba5d1ea0",
   "metadata": {},
   "outputs": [],
   "source": [
    "def weights_init(m):\n",
    "    if isinstance(m, nn.Linear):\n",
    "        nn.init.xavier_uniform_(m.weight)\n",
    "        if m.bias is not None:\n",
    "            nn.init.constant_(m.bias, 0.0)\n",
    "\n",
    "def get_optimizers(generator, discriminator, lr_g=0.0002, lr_d=0.0002):\n",
    "    opt_g = torch.optim.Adam(generator.parameters(), lr=lr_g, betas=(0.5, 0.999))\n",
    "    opt_d = torch.optim.Adam(discriminator.parameters(), lr=lr_d, betas=(0.5, 0.999))\n",
    "    return opt_g, opt_d\n",
    "\n",
    "def plot_gan_losses(g_losses, d_losses):\n",
    "    plt.figure(figsize=(8,5))\n",
    "    plt.plot(g_losses, label=\"Generator Loss\")\n",
    "    plt.plot(d_losses, label=\"Discriminator Loss\")\n",
    "    plt.xlabel(\"Epochs\")\n",
    "    plt.ylabel(\"Loss\")\n",
    "    plt.title(\"GAN Loss Progression\")\n",
    "    plt.legend()\n",
    "    plt.show()\n"
   ]
  },
  {
   "cell_type": "code",
   "execution_count": 13,
   "id": "0345f4b7",
   "metadata": {},
   "outputs": [],
   "source": [
    "from torch.utils.data import DataLoader, TensorDataset\n",
    "\n",
    "def train_gan(generator, discriminator, dataloader, epochs, device, opt_g, opt_d, criterion):\n",
    "    generator.train()\n",
    "    discriminator.train()\n",
    "    g_losses, d_losses = [], []\n",
    "\n",
    "    for epoch in range(epochs):\n",
    "        g_loss_epoch, d_loss_epoch = 0.0, 0.0\n",
    "        for real_samples in tqdm(dataloader, desc=f\"Epoch {epoch+1}/{epochs}\", leave=False):\n",
    "            real_samples = real_samples[0].to(device)\n",
    "            batch_size = real_samples.size(0)\n",
    "\n",
    "            # Train Discriminator\n",
    "            opt_d.zero_grad()\n",
    "            z = torch.randn(batch_size, generator.model[0].in_features, device=device)\n",
    "            fake_samples = generator(z)\n",
    "            real_labels = torch.ones((batch_size, 1), device=device)\n",
    "            fake_labels = torch.zeros((batch_size, 1), device=device)\n",
    "\n",
    "            real_loss = criterion(discriminator(real_samples), real_labels)\n",
    "            fake_loss = criterion(discriminator(fake_samples.detach()), fake_labels)\n",
    "            d_loss = (real_loss + fake_loss) / 2\n",
    "            d_loss.backward()\n",
    "            opt_d.step()\n",
    "\n",
    "            # Train Generator\n",
    "            opt_g.zero_grad()\n",
    "            gen_labels = torch.ones((batch_size, 1), device=device)\n",
    "            g_loss = criterion(discriminator(fake_samples), gen_labels)\n",
    "            g_loss.backward()\n",
    "            opt_g.step()\n",
    "\n",
    "            g_loss_epoch += g_loss.item() * batch_size\n",
    "            d_loss_epoch += d_loss.item() * batch_size\n",
    "\n",
    "        g_losses.append(g_loss_epoch / len(dataloader.dataset))\n",
    "        d_losses.append(d_loss_epoch / len(dataloader.dataset))\n",
    "        print(f\"Epoch [{epoch+1}/{epochs}]  D_loss: {d_losses[-1]:.4f}  G_loss: {g_losses[-1]:.4f}\")\n",
    "\n",
    "    plot_gan_losses(g_losses, d_losses)\n",
    "    return generator, discriminator, g_losses, d_losses\n"
   ]
  },
  {
   "cell_type": "code",
   "execution_count": 14,
   "id": "e2a98cb7",
   "metadata": {},
   "outputs": [],
   "source": [
    "def calculate_fid(real_samples, fake_samples):\n",
    "    try:\n",
    "        mu1, sigma1 = np.mean(real_samples, axis=0), np.cov(real_samples, rowvar=False)\n",
    "        mu2, sigma2 = np.mean(fake_samples, axis=0), np.cov(fake_samples, rowvar=False)\n",
    "        diff = mu1 - mu2\n",
    "        covmean = sqrtm(sigma1.dot(sigma2))\n",
    "        if np.iscomplexobj(covmean):\n",
    "            covmean = covmean.real\n",
    "        fid = diff.dot(diff) + np.trace(sigma1 + sigma2 - 2 * covmean)\n",
    "        return np.real(fid)\n",
    "    except Exception as e:\n",
    "        print(f\"[Warning] FID calculation failed ({e}). Using cosine similarity fallback.\")\n",
    "        sim = cosine_similarity(real_samples, fake_samples).mean()\n",
    "        return 1 - sim  # lower = better\n"
   ]
  },
  {
   "cell_type": "code",
   "execution_count": 15,
   "id": "b7a653e6",
   "metadata": {},
   "outputs": [
    {
     "name": "stdout",
     "output_type": "stream",
     "text": [
      "Starting GAN training...\n"
     ]
    },
    {
     "name": "stderr",
     "output_type": "stream",
     "text": [
      "                                                          \r"
     ]
    },
    {
     "name": "stdout",
     "output_type": "stream",
     "text": [
      "Epoch [1/100]  D_loss: 1.6500  G_loss: 0.7449\n"
     ]
    },
    {
     "name": "stderr",
     "output_type": "stream",
     "text": [
      "                                                  \r"
     ]
    },
    {
     "name": "stdout",
     "output_type": "stream",
     "text": [
      "Epoch [2/100]  D_loss: 1.5770  G_loss: 0.7493\n"
     ]
    },
    {
     "name": "stderr",
     "output_type": "stream",
     "text": [
      "                                                          \r"
     ]
    },
    {
     "name": "stdout",
     "output_type": "stream",
     "text": [
      "Epoch [3/100]  D_loss: 1.3657  G_loss: 0.7332\n"
     ]
    },
    {
     "name": "stderr",
     "output_type": "stream",
     "text": [
      "                                                  \r"
     ]
    },
    {
     "name": "stdout",
     "output_type": "stream",
     "text": [
      "Epoch [4/100]  D_loss: 1.2406  G_loss: 0.7248\n"
     ]
    },
    {
     "name": "stderr",
     "output_type": "stream",
     "text": [
      "                                                  \r"
     ]
    },
    {
     "name": "stdout",
     "output_type": "stream",
     "text": [
      "Epoch [5/100]  D_loss: 1.0817  G_loss: 0.7054\n"
     ]
    },
    {
     "name": "stderr",
     "output_type": "stream",
     "text": [
      "                                                  \r"
     ]
    },
    {
     "name": "stdout",
     "output_type": "stream",
     "text": [
      "Epoch [6/100]  D_loss: 0.9878  G_loss: 0.6982\n"
     ]
    },
    {
     "name": "stderr",
     "output_type": "stream",
     "text": [
      "                                                  \r"
     ]
    },
    {
     "name": "stdout",
     "output_type": "stream",
     "text": [
      "Epoch [7/100]  D_loss: 0.8593  G_loss: 0.7229\n"
     ]
    },
    {
     "name": "stderr",
     "output_type": "stream",
     "text": [
      "                                                  \r"
     ]
    },
    {
     "name": "stdout",
     "output_type": "stream",
     "text": [
      "Epoch [8/100]  D_loss: 0.7768  G_loss: 0.7261\n"
     ]
    },
    {
     "name": "stderr",
     "output_type": "stream",
     "text": [
      "                                                  \r"
     ]
    },
    {
     "name": "stdout",
     "output_type": "stream",
     "text": [
      "Epoch [9/100]  D_loss: 0.7405  G_loss: 0.7075\n"
     ]
    },
    {
     "name": "stderr",
     "output_type": "stream",
     "text": [
      "                                                           \r"
     ]
    },
    {
     "name": "stdout",
     "output_type": "stream",
     "text": [
      "Epoch [10/100]  D_loss: 0.6857  G_loss: 0.7018\n"
     ]
    },
    {
     "name": "stderr",
     "output_type": "stream",
     "text": [
      "                                                           \r"
     ]
    },
    {
     "name": "stdout",
     "output_type": "stream",
     "text": [
      "Epoch [11/100]  D_loss: 0.7079  G_loss: 0.7081\n"
     ]
    },
    {
     "name": "stderr",
     "output_type": "stream",
     "text": [
      "                                                           \r"
     ]
    },
    {
     "name": "stdout",
     "output_type": "stream",
     "text": [
      "Epoch [12/100]  D_loss: 0.6497  G_loss: 0.7190\n"
     ]
    },
    {
     "name": "stderr",
     "output_type": "stream",
     "text": [
      "                                                           \r"
     ]
    },
    {
     "name": "stdout",
     "output_type": "stream",
     "text": [
      "Epoch [13/100]  D_loss: 0.6224  G_loss: 0.7175\n"
     ]
    },
    {
     "name": "stderr",
     "output_type": "stream",
     "text": [
      "                                                   \r"
     ]
    },
    {
     "name": "stdout",
     "output_type": "stream",
     "text": [
      "Epoch [14/100]  D_loss: 0.6229  G_loss: 0.7346\n"
     ]
    },
    {
     "name": "stderr",
     "output_type": "stream",
     "text": [
      "                                                   \r"
     ]
    },
    {
     "name": "stdout",
     "output_type": "stream",
     "text": [
      "Epoch [15/100]  D_loss: 0.5859  G_loss: 0.7317\n"
     ]
    },
    {
     "name": "stderr",
     "output_type": "stream",
     "text": [
      "                                                   \r"
     ]
    },
    {
     "name": "stdout",
     "output_type": "stream",
     "text": [
      "Epoch [16/100]  D_loss: 0.5695  G_loss: 0.7508\n"
     ]
    },
    {
     "name": "stderr",
     "output_type": "stream",
     "text": [
      "                                                   \r"
     ]
    },
    {
     "name": "stdout",
     "output_type": "stream",
     "text": [
      "Epoch [17/100]  D_loss: 0.5563  G_loss: 0.7233\n"
     ]
    },
    {
     "name": "stderr",
     "output_type": "stream",
     "text": [
      "                                                   \r"
     ]
    },
    {
     "name": "stdout",
     "output_type": "stream",
     "text": [
      "Epoch [18/100]  D_loss: 0.5337  G_loss: 0.7697\n"
     ]
    },
    {
     "name": "stderr",
     "output_type": "stream",
     "text": [
      "                                                   \r"
     ]
    },
    {
     "name": "stdout",
     "output_type": "stream",
     "text": [
      "Epoch [19/100]  D_loss: 0.5267  G_loss: 0.7739\n"
     ]
    },
    {
     "name": "stderr",
     "output_type": "stream",
     "text": [
      "                                                   \r"
     ]
    },
    {
     "name": "stdout",
     "output_type": "stream",
     "text": [
      "Epoch [20/100]  D_loss: 0.5103  G_loss: 0.7747\n"
     ]
    },
    {
     "name": "stderr",
     "output_type": "stream",
     "text": [
      "                                                   \r"
     ]
    },
    {
     "name": "stdout",
     "output_type": "stream",
     "text": [
      "Epoch [21/100]  D_loss: 0.5113  G_loss: 0.7759\n"
     ]
    },
    {
     "name": "stderr",
     "output_type": "stream",
     "text": [
      "                                                   \r"
     ]
    },
    {
     "name": "stdout",
     "output_type": "stream",
     "text": [
      "Epoch [22/100]  D_loss: 0.4976  G_loss: 0.7832\n"
     ]
    },
    {
     "name": "stderr",
     "output_type": "stream",
     "text": [
      "                                                   \r"
     ]
    },
    {
     "name": "stdout",
     "output_type": "stream",
     "text": [
      "Epoch [23/100]  D_loss: 0.4999  G_loss: 0.7756\n"
     ]
    },
    {
     "name": "stderr",
     "output_type": "stream",
     "text": [
      "                                                   \r"
     ]
    },
    {
     "name": "stdout",
     "output_type": "stream",
     "text": [
      "Epoch [24/100]  D_loss: 0.5318  G_loss: 0.7859\n"
     ]
    },
    {
     "name": "stderr",
     "output_type": "stream",
     "text": [
      "                                                           \r"
     ]
    },
    {
     "name": "stdout",
     "output_type": "stream",
     "text": [
      "Epoch [25/100]  D_loss: 0.5116  G_loss: 0.7801\n"
     ]
    },
    {
     "name": "stderr",
     "output_type": "stream",
     "text": [
      "                                                           \r"
     ]
    },
    {
     "name": "stdout",
     "output_type": "stream",
     "text": [
      "Epoch [26/100]  D_loss: 0.4842  G_loss: 0.7698\n"
     ]
    },
    {
     "name": "stderr",
     "output_type": "stream",
     "text": [
      "                                                   \r"
     ]
    },
    {
     "name": "stdout",
     "output_type": "stream",
     "text": [
      "Epoch [27/100]  D_loss: 0.4642  G_loss: 0.7966\n"
     ]
    },
    {
     "name": "stderr",
     "output_type": "stream",
     "text": [
      "                                                   \r"
     ]
    },
    {
     "name": "stdout",
     "output_type": "stream",
     "text": [
      "Epoch [28/100]  D_loss: 0.4874  G_loss: 0.7626\n"
     ]
    },
    {
     "name": "stderr",
     "output_type": "stream",
     "text": [
      "                                                           \r"
     ]
    },
    {
     "name": "stdout",
     "output_type": "stream",
     "text": [
      "Epoch [29/100]  D_loss: 0.4832  G_loss: 0.7764\n"
     ]
    },
    {
     "name": "stderr",
     "output_type": "stream",
     "text": [
      "                                                   \r"
     ]
    },
    {
     "name": "stdout",
     "output_type": "stream",
     "text": [
      "Epoch [30/100]  D_loss: 0.4762  G_loss: 0.7644\n"
     ]
    },
    {
     "name": "stderr",
     "output_type": "stream",
     "text": [
      "                                                   \r"
     ]
    },
    {
     "name": "stdout",
     "output_type": "stream",
     "text": [
      "Epoch [31/100]  D_loss: 0.4814  G_loss: 0.7658\n"
     ]
    },
    {
     "name": "stderr",
     "output_type": "stream",
     "text": [
      "                                                   \r"
     ]
    },
    {
     "name": "stdout",
     "output_type": "stream",
     "text": [
      "Epoch [32/100]  D_loss: 0.4768  G_loss: 0.7670\n"
     ]
    },
    {
     "name": "stderr",
     "output_type": "stream",
     "text": [
      "                                                   \r"
     ]
    },
    {
     "name": "stdout",
     "output_type": "stream",
     "text": [
      "Epoch [33/100]  D_loss: 0.4879  G_loss: 0.7755\n"
     ]
    },
    {
     "name": "stderr",
     "output_type": "stream",
     "text": [
      "                                                   \r"
     ]
    },
    {
     "name": "stdout",
     "output_type": "stream",
     "text": [
      "Epoch [34/100]  D_loss: 0.5034  G_loss: 0.7553\n"
     ]
    },
    {
     "name": "stderr",
     "output_type": "stream",
     "text": [
      "                                                   \r"
     ]
    },
    {
     "name": "stdout",
     "output_type": "stream",
     "text": [
      "Epoch [35/100]  D_loss: 0.4952  G_loss: 0.7529\n"
     ]
    },
    {
     "name": "stderr",
     "output_type": "stream",
     "text": [
      "                                                   \r"
     ]
    },
    {
     "name": "stdout",
     "output_type": "stream",
     "text": [
      "Epoch [36/100]  D_loss: 0.5157  G_loss: 0.7379\n"
     ]
    },
    {
     "name": "stderr",
     "output_type": "stream",
     "text": [
      "                                                   \r"
     ]
    },
    {
     "name": "stdout",
     "output_type": "stream",
     "text": [
      "Epoch [37/100]  D_loss: 0.4944  G_loss: 0.7562\n"
     ]
    },
    {
     "name": "stderr",
     "output_type": "stream",
     "text": [
      "                                                   \r"
     ]
    },
    {
     "name": "stdout",
     "output_type": "stream",
     "text": [
      "Epoch [38/100]  D_loss: 0.5179  G_loss: 0.7413\n"
     ]
    },
    {
     "name": "stderr",
     "output_type": "stream",
     "text": [
      "                                                   \r"
     ]
    },
    {
     "name": "stdout",
     "output_type": "stream",
     "text": [
      "Epoch [39/100]  D_loss: 0.4987  G_loss: 0.7382\n"
     ]
    },
    {
     "name": "stderr",
     "output_type": "stream",
     "text": [
      "                                                   \r"
     ]
    },
    {
     "name": "stdout",
     "output_type": "stream",
     "text": [
      "Epoch [40/100]  D_loss: 0.5125  G_loss: 0.7248\n"
     ]
    },
    {
     "name": "stderr",
     "output_type": "stream",
     "text": [
      "                                                           \r"
     ]
    },
    {
     "name": "stdout",
     "output_type": "stream",
     "text": [
      "Epoch [41/100]  D_loss: 0.5184  G_loss: 0.7210\n"
     ]
    },
    {
     "name": "stderr",
     "output_type": "stream",
     "text": [
      "                                                           \r"
     ]
    },
    {
     "name": "stdout",
     "output_type": "stream",
     "text": [
      "Epoch [42/100]  D_loss: 0.5250  G_loss: 0.7161\n"
     ]
    },
    {
     "name": "stderr",
     "output_type": "stream",
     "text": [
      "                                                           \r"
     ]
    },
    {
     "name": "stdout",
     "output_type": "stream",
     "text": [
      "Epoch [43/100]  D_loss: 0.5212  G_loss: 0.6956\n"
     ]
    },
    {
     "name": "stderr",
     "output_type": "stream",
     "text": [
      "                                                           \r"
     ]
    },
    {
     "name": "stdout",
     "output_type": "stream",
     "text": [
      "Epoch [44/100]  D_loss: 0.5282  G_loss: 0.7019\n"
     ]
    },
    {
     "name": "stderr",
     "output_type": "stream",
     "text": [
      "                                                           \r"
     ]
    },
    {
     "name": "stdout",
     "output_type": "stream",
     "text": [
      "Epoch [45/100]  D_loss: 0.5203  G_loss: 0.6861\n"
     ]
    },
    {
     "name": "stderr",
     "output_type": "stream",
     "text": [
      "                                                           \r"
     ]
    },
    {
     "name": "stdout",
     "output_type": "stream",
     "text": [
      "Epoch [46/100]  D_loss: 0.5265  G_loss: 0.6876\n"
     ]
    },
    {
     "name": "stderr",
     "output_type": "stream",
     "text": [
      "                                                           \r"
     ]
    },
    {
     "name": "stdout",
     "output_type": "stream",
     "text": [
      "Epoch [47/100]  D_loss: 0.5156  G_loss: 0.6785\n"
     ]
    },
    {
     "name": "stderr",
     "output_type": "stream",
     "text": [
      "                                                           \r"
     ]
    },
    {
     "name": "stdout",
     "output_type": "stream",
     "text": [
      "Epoch [48/100]  D_loss: 0.5491  G_loss: 0.6636\n"
     ]
    },
    {
     "name": "stderr",
     "output_type": "stream",
     "text": [
      "                                                           \r"
     ]
    },
    {
     "name": "stdout",
     "output_type": "stream",
     "text": [
      "Epoch [49/100]  D_loss: 0.5599  G_loss: 0.6742\n"
     ]
    },
    {
     "name": "stderr",
     "output_type": "stream",
     "text": [
      "                                                           \r"
     ]
    },
    {
     "name": "stdout",
     "output_type": "stream",
     "text": [
      "Epoch [50/100]  D_loss: 0.5531  G_loss: 0.6827\n"
     ]
    },
    {
     "name": "stderr",
     "output_type": "stream",
     "text": [
      "                                                           \r"
     ]
    },
    {
     "name": "stdout",
     "output_type": "stream",
     "text": [
      "Epoch [51/100]  D_loss: 0.5699  G_loss: 0.6509\n"
     ]
    },
    {
     "name": "stderr",
     "output_type": "stream",
     "text": [
      "                                                           \r"
     ]
    },
    {
     "name": "stdout",
     "output_type": "stream",
     "text": [
      "Epoch [52/100]  D_loss: 0.5514  G_loss: 0.6665\n"
     ]
    },
    {
     "name": "stderr",
     "output_type": "stream",
     "text": [
      "                                                           \r"
     ]
    },
    {
     "name": "stdout",
     "output_type": "stream",
     "text": [
      "Epoch [53/100]  D_loss: 0.5651  G_loss: 0.6369\n"
     ]
    },
    {
     "name": "stderr",
     "output_type": "stream",
     "text": [
      "                                                           \r"
     ]
    },
    {
     "name": "stdout",
     "output_type": "stream",
     "text": [
      "Epoch [54/100]  D_loss: 0.5601  G_loss: 0.6460\n"
     ]
    },
    {
     "name": "stderr",
     "output_type": "stream",
     "text": [
      "                                                           \r"
     ]
    },
    {
     "name": "stdout",
     "output_type": "stream",
     "text": [
      "Epoch [55/100]  D_loss: 0.5634  G_loss: 0.6440\n"
     ]
    },
    {
     "name": "stderr",
     "output_type": "stream",
     "text": [
      "                                                           \r"
     ]
    },
    {
     "name": "stdout",
     "output_type": "stream",
     "text": [
      "Epoch [56/100]  D_loss: 0.5557  G_loss: 0.6466\n"
     ]
    },
    {
     "name": "stderr",
     "output_type": "stream",
     "text": [
      "                                                           \r"
     ]
    },
    {
     "name": "stdout",
     "output_type": "stream",
     "text": [
      "Epoch [57/100]  D_loss: 0.5651  G_loss: 0.6414\n"
     ]
    },
    {
     "name": "stderr",
     "output_type": "stream",
     "text": [
      "                                                           \r"
     ]
    },
    {
     "name": "stdout",
     "output_type": "stream",
     "text": [
      "Epoch [58/100]  D_loss: 0.5604  G_loss: 0.6488\n"
     ]
    },
    {
     "name": "stderr",
     "output_type": "stream",
     "text": [
      "                                                           \r"
     ]
    },
    {
     "name": "stdout",
     "output_type": "stream",
     "text": [
      "Epoch [59/100]  D_loss: 0.5643  G_loss: 0.6575\n"
     ]
    },
    {
     "name": "stderr",
     "output_type": "stream",
     "text": [
      "                                                           \r"
     ]
    },
    {
     "name": "stdout",
     "output_type": "stream",
     "text": [
      "Epoch [60/100]  D_loss: 0.5561  G_loss: 0.6315\n"
     ]
    },
    {
     "name": "stderr",
     "output_type": "stream",
     "text": [
      "                                                   \r"
     ]
    },
    {
     "name": "stdout",
     "output_type": "stream",
     "text": [
      "Epoch [61/100]  D_loss: 0.5600  G_loss: 0.6477\n"
     ]
    },
    {
     "name": "stderr",
     "output_type": "stream",
     "text": [
      "                                                   \r"
     ]
    },
    {
     "name": "stdout",
     "output_type": "stream",
     "text": [
      "Epoch [62/100]  D_loss: 0.5601  G_loss: 0.6382\n"
     ]
    },
    {
     "name": "stderr",
     "output_type": "stream",
     "text": [
      "                                                   \r"
     ]
    },
    {
     "name": "stdout",
     "output_type": "stream",
     "text": [
      "Epoch [63/100]  D_loss: 0.5726  G_loss: 0.6348\n"
     ]
    },
    {
     "name": "stderr",
     "output_type": "stream",
     "text": [
      "                                                   \r"
     ]
    },
    {
     "name": "stdout",
     "output_type": "stream",
     "text": [
      "Epoch [64/100]  D_loss: 0.5590  G_loss: 0.6543\n"
     ]
    },
    {
     "name": "stderr",
     "output_type": "stream",
     "text": [
      "                                                   \r"
     ]
    },
    {
     "name": "stdout",
     "output_type": "stream",
     "text": [
      "Epoch [65/100]  D_loss: 0.5675  G_loss: 0.6337\n"
     ]
    },
    {
     "name": "stderr",
     "output_type": "stream",
     "text": [
      "                                                   \r"
     ]
    },
    {
     "name": "stdout",
     "output_type": "stream",
     "text": [
      "Epoch [66/100]  D_loss: 0.5590  G_loss: 0.6519\n"
     ]
    },
    {
     "name": "stderr",
     "output_type": "stream",
     "text": [
      "                                                   \r"
     ]
    },
    {
     "name": "stdout",
     "output_type": "stream",
     "text": [
      "Epoch [67/100]  D_loss: 0.5568  G_loss: 0.6573\n"
     ]
    },
    {
     "name": "stderr",
     "output_type": "stream",
     "text": [
      "                                                   \r"
     ]
    },
    {
     "name": "stdout",
     "output_type": "stream",
     "text": [
      "Epoch [68/100]  D_loss: 0.5818  G_loss: 0.6634\n"
     ]
    },
    {
     "name": "stderr",
     "output_type": "stream",
     "text": [
      "                                                   \r"
     ]
    },
    {
     "name": "stdout",
     "output_type": "stream",
     "text": [
      "Epoch [69/100]  D_loss: 0.5689  G_loss: 0.6522\n"
     ]
    },
    {
     "name": "stderr",
     "output_type": "stream",
     "text": [
      "                                                   \r"
     ]
    },
    {
     "name": "stdout",
     "output_type": "stream",
     "text": [
      "Epoch [70/100]  D_loss: 0.5638  G_loss: 0.6637\n"
     ]
    },
    {
     "name": "stderr",
     "output_type": "stream",
     "text": [
      "                                                           \r"
     ]
    },
    {
     "name": "stdout",
     "output_type": "stream",
     "text": [
      "Epoch [71/100]  D_loss: 0.5686  G_loss: 0.6529\n"
     ]
    },
    {
     "name": "stderr",
     "output_type": "stream",
     "text": [
      "                                                           \r"
     ]
    },
    {
     "name": "stdout",
     "output_type": "stream",
     "text": [
      "Epoch [72/100]  D_loss: 0.5835  G_loss: 0.6581\n"
     ]
    },
    {
     "name": "stderr",
     "output_type": "stream",
     "text": [
      "                                                           \r"
     ]
    },
    {
     "name": "stdout",
     "output_type": "stream",
     "text": [
      "Epoch [73/100]  D_loss: 0.5590  G_loss: 0.6735\n"
     ]
    },
    {
     "name": "stderr",
     "output_type": "stream",
     "text": [
      "                                                   \r"
     ]
    },
    {
     "name": "stdout",
     "output_type": "stream",
     "text": [
      "Epoch [74/100]  D_loss: 0.5606  G_loss: 0.6611\n"
     ]
    },
    {
     "name": "stderr",
     "output_type": "stream",
     "text": [
      "                                                   \r"
     ]
    },
    {
     "name": "stdout",
     "output_type": "stream",
     "text": [
      "Epoch [75/100]  D_loss: 0.5623  G_loss: 0.6623\n"
     ]
    },
    {
     "name": "stderr",
     "output_type": "stream",
     "text": [
      "                                                           \r"
     ]
    },
    {
     "name": "stdout",
     "output_type": "stream",
     "text": [
      "Epoch [76/100]  D_loss: 0.5466  G_loss: 0.6771\n"
     ]
    },
    {
     "name": "stderr",
     "output_type": "stream",
     "text": [
      "                                                           \r"
     ]
    },
    {
     "name": "stdout",
     "output_type": "stream",
     "text": [
      "Epoch [77/100]  D_loss: 0.5589  G_loss: 0.6598\n"
     ]
    },
    {
     "name": "stderr",
     "output_type": "stream",
     "text": [
      "                                                           \r"
     ]
    },
    {
     "name": "stdout",
     "output_type": "stream",
     "text": [
      "Epoch [78/100]  D_loss: 0.5483  G_loss: 0.6782\n"
     ]
    },
    {
     "name": "stderr",
     "output_type": "stream",
     "text": [
      "                                                           \r"
     ]
    },
    {
     "name": "stdout",
     "output_type": "stream",
     "text": [
      "Epoch [79/100]  D_loss: 0.5494  G_loss: 0.6766\n"
     ]
    },
    {
     "name": "stderr",
     "output_type": "stream",
     "text": [
      "                                                   \r"
     ]
    },
    {
     "name": "stdout",
     "output_type": "stream",
     "text": [
      "Epoch [80/100]  D_loss: 0.5481  G_loss: 0.6791\n"
     ]
    },
    {
     "name": "stderr",
     "output_type": "stream",
     "text": [
      "                                                           \r"
     ]
    },
    {
     "name": "stdout",
     "output_type": "stream",
     "text": [
      "Epoch [81/100]  D_loss: 0.5520  G_loss: 0.6876\n"
     ]
    },
    {
     "name": "stderr",
     "output_type": "stream",
     "text": [
      "                                                   \r"
     ]
    },
    {
     "name": "stdout",
     "output_type": "stream",
     "text": [
      "Epoch [82/100]  D_loss: 0.5345  G_loss: 0.6882\n"
     ]
    },
    {
     "name": "stderr",
     "output_type": "stream",
     "text": [
      "                                                   \r"
     ]
    },
    {
     "name": "stdout",
     "output_type": "stream",
     "text": [
      "Epoch [83/100]  D_loss: 0.5377  G_loss: 0.6976\n"
     ]
    },
    {
     "name": "stderr",
     "output_type": "stream",
     "text": [
      "                                                   \r"
     ]
    },
    {
     "name": "stdout",
     "output_type": "stream",
     "text": [
      "Epoch [84/100]  D_loss: 0.5647  G_loss: 0.7125\n"
     ]
    },
    {
     "name": "stderr",
     "output_type": "stream",
     "text": [
      "                                                   \r"
     ]
    },
    {
     "name": "stdout",
     "output_type": "stream",
     "text": [
      "Epoch [85/100]  D_loss: 0.5431  G_loss: 0.7070\n"
     ]
    },
    {
     "name": "stderr",
     "output_type": "stream",
     "text": [
      "                                                           \r"
     ]
    },
    {
     "name": "stdout",
     "output_type": "stream",
     "text": [
      "Epoch [86/100]  D_loss: 0.5292  G_loss: 0.7069\n"
     ]
    },
    {
     "name": "stderr",
     "output_type": "stream",
     "text": [
      "                                                           \r"
     ]
    },
    {
     "name": "stdout",
     "output_type": "stream",
     "text": [
      "Epoch [87/100]  D_loss: 0.5337  G_loss: 0.7082\n"
     ]
    },
    {
     "name": "stderr",
     "output_type": "stream",
     "text": [
      "                                                   \r"
     ]
    },
    {
     "name": "stdout",
     "output_type": "stream",
     "text": [
      "Epoch [88/100]  D_loss: 0.5398  G_loss: 0.6976\n"
     ]
    },
    {
     "name": "stderr",
     "output_type": "stream",
     "text": [
      "                                                   \r"
     ]
    },
    {
     "name": "stdout",
     "output_type": "stream",
     "text": [
      "Epoch [89/100]  D_loss: 0.5465  G_loss: 0.7252\n"
     ]
    },
    {
     "name": "stderr",
     "output_type": "stream",
     "text": [
      "                                                   \r"
     ]
    },
    {
     "name": "stdout",
     "output_type": "stream",
     "text": [
      "Epoch [90/100]  D_loss: 0.5551  G_loss: 0.7034\n"
     ]
    },
    {
     "name": "stderr",
     "output_type": "stream",
     "text": [
      "                                                   \r"
     ]
    },
    {
     "name": "stdout",
     "output_type": "stream",
     "text": [
      "Epoch [91/100]  D_loss: 0.5355  G_loss: 0.7041\n"
     ]
    },
    {
     "name": "stderr",
     "output_type": "stream",
     "text": [
      "                                                           \r"
     ]
    },
    {
     "name": "stdout",
     "output_type": "stream",
     "text": [
      "Epoch [92/100]  D_loss: 0.5362  G_loss: 0.7114\n"
     ]
    },
    {
     "name": "stderr",
     "output_type": "stream",
     "text": [
      "                                                           \r"
     ]
    },
    {
     "name": "stdout",
     "output_type": "stream",
     "text": [
      "Epoch [93/100]  D_loss: 0.5484  G_loss: 0.7312\n"
     ]
    },
    {
     "name": "stderr",
     "output_type": "stream",
     "text": [
      "                                                           \r"
     ]
    },
    {
     "name": "stdout",
     "output_type": "stream",
     "text": [
      "Epoch [94/100]  D_loss: 0.5261  G_loss: 0.7248\n"
     ]
    },
    {
     "name": "stderr",
     "output_type": "stream",
     "text": [
      "                                                           \r"
     ]
    },
    {
     "name": "stdout",
     "output_type": "stream",
     "text": [
      "Epoch [95/100]  D_loss: 0.5454  G_loss: 0.7159\n"
     ]
    },
    {
     "name": "stderr",
     "output_type": "stream",
     "text": [
      "                                                           \r"
     ]
    },
    {
     "name": "stdout",
     "output_type": "stream",
     "text": [
      "Epoch [96/100]  D_loss: 0.5313  G_loss: 0.7164\n"
     ]
    },
    {
     "name": "stderr",
     "output_type": "stream",
     "text": [
      "                                                   \r"
     ]
    },
    {
     "name": "stdout",
     "output_type": "stream",
     "text": [
      "Epoch [97/100]  D_loss: 0.5486  G_loss: 0.7193\n"
     ]
    },
    {
     "name": "stderr",
     "output_type": "stream",
     "text": [
      "                                                   \r"
     ]
    },
    {
     "name": "stdout",
     "output_type": "stream",
     "text": [
      "Epoch [98/100]  D_loss: 0.5404  G_loss: 0.7222\n"
     ]
    },
    {
     "name": "stderr",
     "output_type": "stream",
     "text": [
      "                                                   \r"
     ]
    },
    {
     "name": "stdout",
     "output_type": "stream",
     "text": [
      "Epoch [99/100]  D_loss: 0.5237  G_loss: 0.7312\n"
     ]
    },
    {
     "name": "stderr",
     "output_type": "stream",
     "text": [
      "                                                            \r"
     ]
    },
    {
     "name": "stdout",
     "output_type": "stream",
     "text": [
      "Epoch [100/100]  D_loss: 0.5547  G_loss: 0.7198\n"
     ]
    },
    {
     "data": {
      "image/png": "[encoded data removed]",
      "text/plain": [
       "<Figure size 800x500 with 1 Axes>"
      ]
     },
     "metadata": {},
     "output_type": "display_data"
    },
    {
     "name": "stdout",
     "output_type": "stream",
     "text": [
      "Generating synthetic fraud samples...\n"
     ]
    }
   ],
   "source": [
    "# Config \n",
    "LATENT_DIM = 32\n",
    "HIDDEN_DIM = 64\n",
    "BATCH_SIZE = 128\n",
    "EPOCHS = 100\n",
    "LR_G = 0.0002\n",
    "LR_D = 0.0002\n",
    "\n",
    "# Prepare fraud-only data\n",
    "X_fraud = X[y == 1]\n",
    "tensor_data = torch.tensor(X_fraud, dtype=torch.float32)\n",
    "dataloader = DataLoader(TensorDataset(tensor_data), batch_size=BATCH_SIZE, shuffle=True)\n",
    "\n",
    "# Initialize models\n",
    "feature_dim = X.shape[1]\n",
    "generator = Generator(LATENT_DIM, feature_dim, HIDDEN_DIM).to(DEVICE)\n",
    "discriminator = Discriminator(feature_dim, HIDDEN_DIM).to(DEVICE)\n",
    "generator.apply(weights_init)\n",
    "discriminator.apply(weights_init)\n",
    "\n",
    "# Optimizers and loss\n",
    "opt_g, opt_d = get_optimizers(generator, discriminator, LR_G, LR_D)\n",
    "criterion = nn.BCELoss()\n",
    "\n",
    "# Train GAN\n",
    "print(\"Starting GAN training...\")\n",
    "generator, discriminator, g_losses, d_losses = train_gan(generator, discriminator, dataloader, EPOCHS, DEVICE, opt_g, opt_d, criterion)\n",
    "\n",
    "#  Generate synthetic data\n",
    "def generate_synthetic_data(generator, num_samples, latent_dim, device):\n",
    "    generator.eval()\n",
    "    with torch.no_grad():\n",
    "        z = torch.randn(num_samples, latent_dim, device=device)\n",
    "        synthetic_data = generator(z).cpu().numpy()\n",
    "    return synthetic_data\n",
    "\n",
    "print(\"Generating synthetic fraud samples...\")\n",
    "synthetic_data = generate_synthetic_data(generator, len(X_fraud), LATENT_DIM, DEVICE)\n"
   ]
  },
  {
   "cell_type": "code",
   "execution_count": 16,
   "id": "b34c0210",
   "metadata": {},
   "outputs": [
    {
     "name": "stdout",
     "output_type": "stream",
     "text": [
      "Similarity score (lower is better): 563.1642\n"
     ]
    },
    {
     "data": {
      "image/png": "[encoded data removed]",
      "text/plain": [
       "<Figure size 800x600 with 1 Axes>"
      ]
     },
     "metadata": {},
     "output_type": "display_data"
    },
    {
     "name": "stdout",
     "output_type": "stream",
     "text": [
      "GAN training and evaluation complete!\n",
      "Models saved successfully\n"
     ]
    }
   ],
   "source": [
    "# Evaluate similarity \n",
    "fid_score = calculate_fid(X_fraud, synthetic_data)\n",
    "print(f\"Similarity score (lower is better): {fid_score:.4f}\")\n",
    "\n",
    "# PCA Visualization of real vs synthetic \n",
    "combined_X = np.vstack((X_fraud[:len(synthetic_data)], synthetic_data))\n",
    "combined_y = np.hstack((np.zeros(len(X_fraud[:len(synthetic_data)])), np.ones(len(synthetic_data))))\n",
    "plot_pca(combined_X, combined_y, \"PCA: Real vs Synthetic Fraud Samples\")\n",
    "\n",
    "print(\"GAN training and evaluation complete!\")\n",
    "\n",
    "import os\n",
    "os.makedirs(\"models\", exist_ok=True)\n",
    "\n",
    "torch.save(generator.state_dict(), \"models/generator.pth\")\n",
    "torch.save(discriminator.state_dict(), \"models/discriminator.pth\")\n",
    "\n",
    "print(\"Models saved successfully\")\n"
   ]
  },
  {
   "cell_type": "code",
   "execution_count": 17,
   "id": "60b860ae",
   "metadata": {},
   "outputs": [
    {
     "name": "stdout",
     "output_type": "stream",
     "text": [
      "Original dataset: (284807, 29), Fraud cases: 492\n",
      "Augmented dataset: (285299, 29), Fraud cases: 984.0\n",
      "Train: 199364, Val: 42721, Test: 42722\n"
     ]
    }
   ],
   "source": [
    "from sklearn.model_selection import train_test_split\n",
    "\n",
    "# Combine synthetic fraud samples with real data \n",
    "X_augmented = np.vstack((X, synthetic_data))\n",
    "y_augmented = np.hstack((y, np.ones(len(synthetic_data))))  # label synthetic fraud as fraud (1)\n",
    "\n",
    "print(f\"Original dataset: {X.shape}, Fraud cases: {sum(y)}\")\n",
    "print(f\"Augmented dataset: {X_augmented.shape}, Fraud cases: {sum(y_augmented)}\")\n",
    "\n",
    "#Split into train/val/test \n",
    "X_train, X_temp, y_train, y_temp = train_test_split(X, y, test_size=0.3, random_state=42, stratify=y)\n",
    "X_val, X_test, y_val, y_test = train_test_split(X_temp, y_temp, test_size=0.5, random_state=42, stratify=y_temp)\n",
    "\n",
    "X_train_aug, X_temp_aug, y_train_aug, y_temp_aug = train_test_split(X_augmented, y_augmented, test_size=0.3, random_state=42, stratify=y_augmented)\n",
    "X_val_aug, X_test_aug, y_val_aug, y_test_aug = train_test_split(X_temp_aug, y_temp_aug, test_size=0.5, random_state=42, stratify=y_temp_aug)\n",
    "\n",
    "print(f\"Train: {len(y_train)}, Val: {len(y_val)}, Test: {len(y_test)}\")\n"
   ]
  },
  {
   "cell_type": "code",
   "execution_count": 18,
   "id": "fc6fa945",
   "metadata": {},
   "outputs": [
    {
     "name": "stdout",
     "output_type": "stream",
     "text": [
      "Training classifier on original data...\n",
      "Training classifier on augmented data...\n"
     ]
    }
   ],
   "source": [
    "from sklearn.linear_model import LogisticRegression\n",
    "\n",
    "def train_classifier(X_train, y_train, X_val, y_val):\n",
    "    clf = LogisticRegression(max_iter=1000, class_weight='balanced')\n",
    "    clf.fit(X_train, y_train)\n",
    "    val_pred = clf.predict(X_val)\n",
    "    return clf, val_pred\n",
    "\n",
    "print(\"Training classifier on original data...\")\n",
    "clf_orig, val_pred_orig = train_classifier(X_train, y_train, X_val, y_val)\n",
    "\n",
    "print(\"Training classifier on augmented data...\")\n",
    "clf_aug, val_pred_aug = train_classifier(X_train_aug, y_train_aug, X_val_aug, y_val_aug)\n"
   ]
  },
  {
   "cell_type": "code",
   "execution_count": 19,
   "id": "bc303a0e",
   "metadata": {},
   "outputs": [
    {
     "name": "stdout",
     "output_type": "stream",
     "text": [
      " Original Model Performance:\n",
      "Accuracy : 0.9781\n",
      "Precision: 0.0655\n",
      "Recall   : 0.8784\n",
      "F1 Score : 0.1220\n",
      "ROC-AUC  : 0.9693\n",
      "--------------------------------------------------\n",
      " Augmented (GAN) Model Performance:\n",
      "Accuracy : 0.9866\n",
      "Precision: 0.2006\n",
      "Recall   : 0.9728\n",
      "F1 Score : 0.3326\n",
      "ROC-AUC  : 0.9910\n",
      "--------------------------------------------------\n",
      " Original Performance:\n",
      "Accuracy : 0.9781\n",
      "Precision: 0.0655\n",
      "Recall   : 0.8784\n",
      "F1 Score : 0.1220\n",
      "ROC-AUC  : 0.9693\n",
      "--------------------------------------------------\n",
      " Augmented Performance:\n",
      "Accuracy : 0.9866\n",
      "Precision: 0.2006\n",
      "Recall   : 0.9728\n",
      "F1 Score : 0.3326\n",
      "ROC-AUC  : 0.9910\n",
      "--------------------------------------------------\n"
     ]
    },
    {
     "data": {
      "image/png": "[encoded data removed]",
      "text/plain": [
       "<Figure size 800x500 with 1 Axes>"
      ]
     },
     "metadata": {},
     "output_type": "display_data"
    }
   ],
   "source": [
    "from sklearn.metrics import accuracy_score, precision_score, recall_score, f1_score, roc_auc_score, classification_report\n",
    "\n",
    "def evaluate_model(clf, X_test, y_test, label=\"Model\"):\n",
    "    y_pred = clf.predict(X_test)\n",
    "    acc = accuracy_score(y_test, y_pred)\n",
    "    prec = precision_score(y_test, y_pred, zero_division=0)\n",
    "    rec = recall_score(y_test, y_pred, zero_division=0)\n",
    "    f1 = f1_score(y_test, y_pred, zero_division=0)\n",
    "    auc = roc_auc_score(y_test, clf.predict_proba(X_test)[:, 1])\n",
    "\n",
    "    print(f\" {label} Performance:\")\n",
    "    print(f\"Accuracy : {acc:.4f}\")\n",
    "    print(f\"Precision: {prec:.4f}\")\n",
    "    print(f\"Recall   : {rec:.4f}\")\n",
    "    print(f\"F1 Score : {f1:.4f}\")\n",
    "    print(f\"ROC-AUC  : {auc:.4f}\")\n",
    "    print(\"-\" * 50)\n",
    "    return acc, prec, rec, f1, auc\n",
    "\n",
    "# Evaluate on test sets \n",
    "evaluate_model(clf_orig, X_test, y_test, \"Original Model\")\n",
    "evaluate_model(clf_aug, X_test_aug, y_test_aug, \"Augmented (GAN) Model\")\n",
    "\n",
    "import matplotlib.pyplot as plt\n",
    "\n",
    "labels = [\"Accuracy\", \"Precision\", \"Recall\", \"F1\", \"ROC-AUC\"]\n",
    "orig_scores = evaluate_model(clf_orig, X_test, y_test, \"Original\")[0:5]\n",
    "aug_scores = evaluate_model(clf_aug, X_test_aug, y_test_aug, \"Augmented\")[0:5]\n",
    "\n",
    "x = np.arange(len(labels))\n",
    "width = 0.35\n",
    "plt.figure(figsize=(8,5))\n",
    "plt.bar(x - width/2, orig_scores, width, label=\"Original\")\n",
    "plt.bar(x + width/2, aug_scores, width, label=\"GAN-Augmented\")\n",
    "plt.xticks(x, labels)\n",
    "plt.ylabel(\"Score\")\n",
    "plt.title(\"Model Performance Comparison\")\n",
    "plt.legend()\n",
    "plt.show()\n"
   ]
  },
  {
   "cell_type": "code",
   "execution_count": 20,
   "id": "db515189",
   "metadata": {},
   "outputs": [
    {
     "name": "stdout",
     "output_type": "stream",
     "text": [
      "\n",
      " Original (Real-Only) Model Performance:\n",
      "Accuracy : 0.9777\n",
      "Precision: 0.0640\n",
      "Recall   : 0.8716\n",
      "F1 Score : 0.1192\n",
      "ROC-AUC  : 0.9699\n",
      "--------------------------------------------------\n",
      "\n",
      " Augmented (Real + GAN) Model Performance:\n",
      "Accuracy : 0.9866\n",
      "Precision: 0.1973\n",
      "Recall   : 0.9458\n",
      "F1 Score : 0.3265\n",
      "ROC-AUC  : 0.9831\n",
      "--------------------------------------------------\n"
     ]
    },
    {
     "data": {
      "image/png": "[encoded data removed]",
      "text/plain": [
       "<Figure size 800x500 with 1 Axes>"
      ]
     },
     "metadata": {},
     "output_type": "display_data"
    }
   ],
   "source": [
    "from sklearn.linear_model import LogisticRegression\n",
    "from sklearn.metrics import accuracy_score, precision_score, recall_score, f1_score, roc_auc_score, classification_report\n",
    "import matplotlib.pyplot as plt\n",
    "import numpy as np\n",
    "\n",
    "# Function to Evaluate a Model\n",
    "def evaluate_model(clf, X_test, y_test, label=\"Model\"):\n",
    "    y_pred = clf.predict(X_test)\n",
    "    acc = accuracy_score(y_test, y_pred)\n",
    "    prec = precision_score(y_test, y_pred, zero_division=0)\n",
    "    rec = recall_score(y_test, y_pred, zero_division=0)\n",
    "    f1 = f1_score(y_test, y_pred, zero_division=0)\n",
    "    auc = roc_auc_score(y_test, clf.predict_proba(X_test)[:, 1])\n",
    "\n",
    "    print(f\"\\n {label} Performance:\")\n",
    "    print(f\"Accuracy : {acc:.4f}\")\n",
    "    print(f\"Precision: {prec:.4f}\")\n",
    "    print(f\"Recall   : {rec:.4f}\")\n",
    "    print(f\"F1 Score : {f1:.4f}\")\n",
    "    print(f\"ROC-AUC  : {auc:.4f}\")\n",
    "    print(\"-\" * 50)\n",
    "    return acc, prec, rec, f1, auc\n",
    "\n",
    "# Split the original (real-only) data for baseline\n",
    "from sklearn.model_selection import train_test_split\n",
    "\n",
    "X_real = X\n",
    "y_real = y\n",
    "\n",
    "X_train_orig, X_test_orig, y_train_orig, y_test_orig = train_test_split(\n",
    "    X_real, y_real, test_size=0.3, random_state=42, stratify=y_real\n",
    ")\n",
    "\n",
    "#Train baseline classifier (only real data) \n",
    "clf_orig = LogisticRegression(max_iter=1000, solver=\"liblinear\", class_weight=\"balanced\")\n",
    "clf_orig.fit(X_train_orig, y_train_orig)\n",
    "\n",
    "# Train augmented classifier (real + synthetic fraud samples)\n",
    "X_train_aug = X_augmented\n",
    "y_train_aug = y_augmented\n",
    "\n",
    "X_train_aug, X_test_aug, y_train_aug, y_test_aug = train_test_split(\n",
    "    X_train_aug, y_train_aug, test_size=0.3, random_state=42, stratify=y_train_aug\n",
    ")\n",
    "\n",
    "clf_aug = LogisticRegression(max_iter=1000, solver=\"liblinear\", class_weight=\"balanced\")\n",
    "clf_aug.fit(X_train_aug, y_train_aug)\n",
    "\n",
    "# Evaluate both models\n",
    "orig_scores = evaluate_model(clf_orig, X_test_orig, y_test_orig, \"Original (Real-Only) Model\")\n",
    "aug_scores = evaluate_model(clf_aug, X_test_aug, y_test_aug, \"Augmented (Real + GAN) Model\")\n",
    "\n",
    "# Compare visually \n",
    "labels = [\"Accuracy\", \"Precision\", \"Recall\", \"F1\", \"ROC-AUC\"]\n",
    "x = np.arange(len(labels))\n",
    "width = 0.35\n",
    "\n",
    "plt.figure(figsize=(8,5))\n",
    "plt.bar(x - width/2, orig_scores, width, label=\"Original\")\n",
    "plt.bar(x + width/2, aug_scores, width, label=\"GAN-Augmented\")\n",
    "plt.xticks(x, labels)\n",
    "plt.ylabel(\"Score\")\n",
    "plt.title(\"Model Performance Comparison\")\n",
    "plt.legend()\n",
    "plt.grid(axis='y', linestyle='--', alpha=0.7)\n",
    "plt.show()\n"
   ]
  },
  {
   "cell_type": "code",
   "execution_count": 31,
   "id": "412fd3ee",
   "metadata": {},
   "outputs": [
    {
     "name": "stdout",
     "output_type": "stream",
     "text": [
      "Metrics saved to results as metrics_report.txt\n"
     ]
    }
   ],
   "source": [
    "import json, os\n",
    "os.makedirs(\"./results\", exist_ok=True)\n",
    "\n",
    "metrics = {\n",
    "    \"original\": dict(zip([\"Accuracy\", \"Precision\", \"Recall\", \"F1\", \"ROC-AUC\"], orig_scores)),\n",
    "    \"augmented\": dict(zip([\"Accuracy\", \"Precision\", \"Recall\", \"F1\", \"ROC-AUC\"], aug_scores))\n",
    "}\n",
    "\n",
    "with open(\"./results/metrics_report.txt\", \"w\") as f:\n",
    "    json.dump(metrics, f, indent=4)\n",
    "\n",
    "print(\"Metrics saved to results as metrics_report.txt\")\n"
   ]
  },
  {
   "cell_type": "code",
   "execution_count": null,
   "id": "a422317b",
   "metadata": {},
   "outputs": [],
   "source": []
  },
  {
   "cell_type": "code",
   "execution_count": 22,
   "id": "8b083b25",
   "metadata": {},
   "outputs": [
    {
     "name": "stdout",
     "output_type": "stream",
     "text": [
      "PyTorch version: 2.8.0+cpu\n",
      "CUDA available: False\n"
     ]
    }
   ],
   "source": [
    "import torch\n",
    "print(\"PyTorch version:\", torch.__version__)\n",
    "print(\"CUDA available:\", torch.cuda.is_available())\n"
   ]
  },
  {
   "cell_type": "code",
   "execution_count": 26,
   "id": "336d6c24",
   "metadata": {},
   "outputs": [
    {
     "name": "stdout",
     "output_type": "stream",
     "text": [
      "Trained Generator model loaded.\n"
     ]
    }
   ],
   "source": [
    "import torch\n",
    "from models.generator import Generator\n",
    "\n",
    "LATENT_DIM = 32\n",
    "DEVICE = torch.device('cuda' if torch.cuda.is_available() else 'cpu')\n",
    "\n",
    "generator = Generator(latent_dim=LATENT_DIM, output_dim=X.shape[1])\n",
    "generator.load_state_dict(torch.load(\"models/generator.pth\", map_location=DEVICE))\n",
    "generator.to(DEVICE)\n",
    "generator.eval()\n",
    "\n",
    "print(\"Trained Generator model loaded.\")\n"
   ]
  },
  {
   "cell_type": "code",
   "execution_count": 28,
   "id": "c7601907",
   "metadata": {},
   "outputs": [
    {
     "name": "stdout",
     "output_type": "stream",
     "text": [
      "Generated synthetic fraud samples:\n"
     ]
    },
    {
     "data": {
      "text/html": [
       "<div>\n",
       "<style scoped>\n",
       "    .dataframe tbody tr th:only-of-type {\n",
       "        vertical-align: middle;\n",
       "    }\n",
       "\n",
       "    .dataframe tbody tr th {\n",
       "        vertical-align: top;\n",
       "    }\n",
       "\n",
       "    .dataframe thead th {\n",
       "        text-align: right;\n",
       "    }\n",
       "</style>\n",
       "<table border=\"1\" class=\"dataframe\">\n",
       "  <thead>\n",
       "    <tr style=\"text-align: right;\">\n",
       "      <th></th>\n",
       "      <th>0</th>\n",
       "      <th>1</th>\n",
       "      <th>2</th>\n",
       "      <th>3</th>\n",
       "      <th>4</th>\n",
       "      <th>5</th>\n",
       "      <th>6</th>\n",
       "      <th>7</th>\n",
       "      <th>8</th>\n",
       "      <th>9</th>\n",
       "      <th>...</th>\n",
       "      <th>19</th>\n",
       "      <th>20</th>\n",
       "      <th>21</th>\n",
       "      <th>22</th>\n",
       "      <th>23</th>\n",
       "      <th>24</th>\n",
       "      <th>25</th>\n",
       "      <th>26</th>\n",
       "      <th>27</th>\n",
       "      <th>28</th>\n",
       "    </tr>\n",
       "  </thead>\n",
       "  <tbody>\n",
       "    <tr>\n",
       "      <th>0</th>\n",
       "      <td>-1.422403</td>\n",
       "      <td>-0.003100</td>\n",
       "      <td>-1.743703</td>\n",
       "      <td>1.868907</td>\n",
       "      <td>-1.185177</td>\n",
       "      <td>0.123820</td>\n",
       "      <td>0.144315</td>\n",
       "      <td>-0.197595</td>\n",
       "      <td>-0.515634</td>\n",
       "      <td>-1.208429</td>\n",
       "      <td>...</td>\n",
       "      <td>0.301067</td>\n",
       "      <td>0.823862</td>\n",
       "      <td>-1.157925</td>\n",
       "      <td>-0.556500</td>\n",
       "      <td>0.003541</td>\n",
       "      <td>-0.949724</td>\n",
       "      <td>-0.870211</td>\n",
       "      <td>-0.248621</td>\n",
       "      <td>1.225394</td>\n",
       "      <td>1.456687</td>\n",
       "    </tr>\n",
       "    <tr>\n",
       "      <th>1</th>\n",
       "      <td>-0.647696</td>\n",
       "      <td>0.369114</td>\n",
       "      <td>-1.356017</td>\n",
       "      <td>2.196786</td>\n",
       "      <td>-1.542285</td>\n",
       "      <td>1.180765</td>\n",
       "      <td>-1.412109</td>\n",
       "      <td>-0.357874</td>\n",
       "      <td>-1.140737</td>\n",
       "      <td>-1.252889</td>\n",
       "      <td>...</td>\n",
       "      <td>0.686956</td>\n",
       "      <td>1.017771</td>\n",
       "      <td>-0.401466</td>\n",
       "      <td>-0.135181</td>\n",
       "      <td>-0.886084</td>\n",
       "      <td>1.398693</td>\n",
       "      <td>0.842562</td>\n",
       "      <td>-1.032257</td>\n",
       "      <td>-0.003361</td>\n",
       "      <td>0.349535</td>\n",
       "    </tr>\n",
       "    <tr>\n",
       "      <th>2</th>\n",
       "      <td>-0.239905</td>\n",
       "      <td>1.241223</td>\n",
       "      <td>-1.648661</td>\n",
       "      <td>1.476325</td>\n",
       "      <td>-0.045683</td>\n",
       "      <td>0.844170</td>\n",
       "      <td>-0.887385</td>\n",
       "      <td>-0.376614</td>\n",
       "      <td>-0.500042</td>\n",
       "      <td>-2.543558</td>\n",
       "      <td>...</td>\n",
       "      <td>0.403232</td>\n",
       "      <td>0.993386</td>\n",
       "      <td>-0.747978</td>\n",
       "      <td>0.821668</td>\n",
       "      <td>0.205573</td>\n",
       "      <td>-0.584919</td>\n",
       "      <td>0.378465</td>\n",
       "      <td>-0.030091</td>\n",
       "      <td>0.615947</td>\n",
       "      <td>0.585505</td>\n",
       "    </tr>\n",
       "    <tr>\n",
       "      <th>3</th>\n",
       "      <td>-0.897323</td>\n",
       "      <td>1.258904</td>\n",
       "      <td>-1.252878</td>\n",
       "      <td>1.218585</td>\n",
       "      <td>-0.552595</td>\n",
       "      <td>0.057378</td>\n",
       "      <td>-1.669159</td>\n",
       "      <td>-1.510763</td>\n",
       "      <td>-0.857852</td>\n",
       "      <td>-0.971816</td>\n",
       "      <td>...</td>\n",
       "      <td>-0.417036</td>\n",
       "      <td>0.551676</td>\n",
       "      <td>-0.575219</td>\n",
       "      <td>0.146641</td>\n",
       "      <td>0.561454</td>\n",
       "      <td>-0.560511</td>\n",
       "      <td>-0.649702</td>\n",
       "      <td>0.718351</td>\n",
       "      <td>0.226380</td>\n",
       "      <td>-0.295173</td>\n",
       "    </tr>\n",
       "    <tr>\n",
       "      <th>4</th>\n",
       "      <td>-1.911842</td>\n",
       "      <td>0.653258</td>\n",
       "      <td>-2.189158</td>\n",
       "      <td>0.724747</td>\n",
       "      <td>-0.163075</td>\n",
       "      <td>1.235955</td>\n",
       "      <td>0.411749</td>\n",
       "      <td>0.082493</td>\n",
       "      <td>-0.138521</td>\n",
       "      <td>-2.983838</td>\n",
       "      <td>...</td>\n",
       "      <td>-0.411577</td>\n",
       "      <td>-0.317205</td>\n",
       "      <td>-1.286587</td>\n",
       "      <td>-0.825808</td>\n",
       "      <td>0.904653</td>\n",
       "      <td>0.355701</td>\n",
       "      <td>-0.240413</td>\n",
       "      <td>-0.574919</td>\n",
       "      <td>0.264507</td>\n",
       "      <td>0.643984</td>\n",
       "    </tr>\n",
       "  </tbody>\n",
       "</table>\n",
       "<p>5 rows × 29 columns</p>\n",
       "</div>"
      ],
      "text/plain": [
       "         0         1         2         3         4         5         6   \\\n",
       "0 -1.422403 -0.003100 -1.743703  1.868907 -1.185177  0.123820  0.144315   \n",
       "1 -0.647696  0.369114 -1.356017  2.196786 -1.542285  1.180765 -1.412109   \n",
       "2 -0.239905  1.241223 -1.648661  1.476325 -0.045683  0.844170 -0.887385   \n",
       "3 -0.897323  1.258904 -1.252878  1.218585 -0.552595  0.057378 -1.669159   \n",
       "4 -1.911842  0.653258 -2.189158  0.724747 -0.163075  1.235955  0.411749   \n",
       "\n",
       "         7         8         9   ...        19        20        21        22  \\\n",
       "0 -0.197595 -0.515634 -1.208429  ...  0.301067  0.823862 -1.157925 -0.556500   \n",
       "1 -0.357874 -1.140737 -1.252889  ...  0.686956  1.017771 -0.401466 -0.135181   \n",
       "2 -0.376614 -0.500042 -2.543558  ...  0.403232  0.993386 -0.747978  0.821668   \n",
       "3 -1.510763 -0.857852 -0.971816  ... -0.417036  0.551676 -0.575219  0.146641   \n",
       "4  0.082493 -0.138521 -2.983838  ... -0.411577 -0.317205 -1.286587 -0.825808   \n",
       "\n",
       "         23        24        25        26        27        28  \n",
       "0  0.003541 -0.949724 -0.870211 -0.248621  1.225394  1.456687  \n",
       "1 -0.886084  1.398693  0.842562 -1.032257 -0.003361  0.349535  \n",
       "2  0.205573 -0.584919  0.378465 -0.030091  0.615947  0.585505  \n",
       "3  0.561454 -0.560511 -0.649702  0.718351  0.226380 -0.295173  \n",
       "4  0.904653  0.355701 -0.240413 -0.574919  0.264507  0.643984  \n",
       "\n",
       "[5 rows x 29 columns]"
      ]
     },
     "execution_count": 28,
     "metadata": {},
     "output_type": "execute_result"
    }
   ],
   "source": [
    "import numpy as np\n",
    "\n",
    "def generate_synthetic_data(generator, num_samples, latent_dim, device):\n",
    "    generator.eval()\n",
    "    with torch.no_grad():\n",
    "        z = torch.randn(num_samples, latent_dim, device=device)\n",
    "        synthetic_data = generator(z).cpu().numpy()\n",
    "    return synthetic_data\n",
    "\n",
    "synthetic_data = generate_synthetic_data(generator, 5, LATENT_DIM, DEVICE)\n",
    "print(\"Generated synthetic fraud samples:\")\n",
    "pd.DataFrame(synthetic_data).head()\n",
    "\n"
   ]
  }
 ],
 "metadata": {
  "kernelspec": {
   "display_name": "Python 3",
   "language": "python",
   "name": "python3"
  },
  "language_info": {
   "codemirror_mode": {
    "name": "ipython",
    "version": 3
   },
   "file_extension": ".py",
   "mimetype": "text/x-python",
   "name": "python",
   "nbconvert_exporter": "python",
   "pygments_lexer": "ipython3",
   "version": "3.13.5"
  }
 },
 "nbformat": 4,
 "nbformat_minor": 5
}
